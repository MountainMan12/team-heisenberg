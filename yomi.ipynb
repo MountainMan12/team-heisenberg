{
 "cells": [
  {
   "cell_type": "code",
   "execution_count": 3,
   "metadata": {},
   "outputs": [
    {
     "name": "stdout",
     "output_type": "stream",
     "text": [
      "('Name', 'mail', 'language', 'biostack', 'slack id') ('yomi', 'abayomi.ag@gmail.com', 'python', 'vaccine informatics', 'yomi')\n"
     ]
    }
   ],
   "source": [
    "hack_id=(\"yomi\", \"abayomi.ag@gmail.com\", \"python\", \"vaccine informatics\", \"yomi\")\n",
    "hack_ref= (\"Name\", \"mail\", \"language\",\"biostack\", \"slack id\")\n",
    "print(hack_ref, hack_id)"
   ]
  },
  {
   "cell_type": "code",
   "execution_count": 22,
   "metadata": {},
   "outputs": [],
   "source": [
    "hack_me={\"name\":\"yomi,\", \"mail\":\"abayomi.ag@gmail.com,\", \"language\":\"python,\", \"biostack\":\"vaccine informatics,\", \"id\":\"yomi,\"} "
   ]
  },
  {
   "cell_type": "code",
   "execution_count": 23,
   "metadata": {},
   "outputs": [
    {
     "name": "stdout",
     "output_type": "stream",
     "text": [
      "yomi, abayomi.ag@gmail.com, python, vaccine informatics, yomi, "
     ]
    }
   ],
   "source": [
    "for i in hack_me.values():\n",
    "    print(i, '',end='')"
   ]
  }
 ],
 "metadata": {
  "kernelspec": {
   "display_name": "Python 3",
   "language": "python",
   "name": "python3"
  },
  "language_info": {
   "codemirror_mode": {
    "name": "ipython",
    "version": 3
   },
   "file_extension": ".py",
   "mimetype": "text/x-python",
   "name": "python",
   "nbconvert_exporter": "python",
   "pygments_lexer": "ipython3",
   "version": "3.7.4"
  }
 },
 "nbformat": 4,
 "nbformat_minor": 2
}
